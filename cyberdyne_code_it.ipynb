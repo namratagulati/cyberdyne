{
  "nbformat": 4,
  "nbformat_minor": 0,
  "metadata": {
    "colab": {
      "provenance": [],
      "authorship_tag": "ABX9TyPFiU9RHJhZWTuRwUMnhkIF"
    },
    "kernelspec": {
      "name": "python3",
      "display_name": "Python 3"
    },
    "language_info": {
      "name": "python"
    }
  },
  "cells": [
    {
      "cell_type": "code",
      "execution_count": null,
      "metadata": {
        "id": "SuSlYFthXqC0"
      },
      "outputs": [],
      "source": [
        "import dpkt        #python module for fast packet parsing\n",
        "import socket      #module defining communicaion b/w server and client\n",
        "import pygeoip     #allows to retrive geographic information from IPs\n",
        "\n",
        "gi = pygeoip.GeoIP('GeoLiteCity.dat')\n",
        "\n",
        "def retKML(dstip, srcip):\n",
        "    dst = gi.record_by_name(dstip)\n",
        "    src = gi.record_by_name('103.90.205.146')\n",
        "    try:\n",
        "        dstlongitude = dst['longitude']\n",
        "        dstlatitude = dst['latitude']\n",
        "        srclongitude = src['longitude']\n",
        "        srclatitude = src['latitude']\n",
        "        kml = (\n",
        "                  '<Placemark>\\n'\n",
        "                  '<name>%s</name>\\n'\n",
        "                  '<extrude>1</extrude>\\n'\n",
        "                  '<tessellate>1</tessellate>\\n'\n",
        "                  '<styleUrl>#transBluePoly</styleUrl>\\n'\n",
        "                  '<LineString>\\n'\n",
        "                  '<coordinates>%6f,%6f\\n%6f,%6f</coordinates>\\n'\n",
        "                  '</LineString>\\n'\n",
        "                  '</Placemark>\\n'\n",
        "              )%(dstip, dstlongitude, dstlatitude, srclongitude, srclatitude)\n",
        "        return kml\n",
        "    except:\n",
        "        return ''\n",
        "\n",
        "\n",
        "def plotIPs(pcap):\n",
        "    kmlPts = ''\n",
        "    for (ts, buf) in pcap:\n",
        "        try:\n",
        "            eth = dpkt.ethernet.Ethernet(buf)\n",
        "            ip = eth.data\n",
        "            src = socket.inet_ntoa(ip.src)\n",
        "            dst = socket.inet_ntoa(ip.dst)\n",
        "            KML = retKML(dst, src)\n",
        "            kmlPts = kmlPts + KML\n",
        "        except:\n",
        "            pass\n",
        "    return kmlPts\n",
        "\n",
        "\n",
        "def main():\n",
        "    f = open('trial2.pcap', 'rb')\n",
        "    pcap = dpkt.pcap.Reader(f)\n",
        "    kmlheader = '<?xml version=\"1.0\" encoding=\"UTF-8\"?> \\n<kml xmlns=\"http://www.opengis.net/kml/2.2\">\\n<Document>\\n' \\\n",
        "                '<Style id=\"transBluePoly\">' \\\n",
        "                '<LineStyle>' \\\n",
        "                '<width>2.5</width>' \\\n",
        "                '<color>501400E6</color>' \\\n",
        "                '</LineStyle>' \\\n",
        "                '</Style>'\n",
        "    kmlfooter = '</Document>\\n</kml>\\n'\n",
        "    kmldoc = kmlheader + plotIPs(pcap) + kmlfooter\n",
        "    print(kmldoc)\n",
        "\n",
        "if __name__ == '__main__':\n",
        "    main()"
      ]
    }
  ]
}